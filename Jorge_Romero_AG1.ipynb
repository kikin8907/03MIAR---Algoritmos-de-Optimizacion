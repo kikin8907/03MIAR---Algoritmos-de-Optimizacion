{
  "nbformat": 4,
  "nbformat_minor": 0,
  "metadata": {
    "colab": {
      "provenance": [],
      "authorship_tag": "ABX9TyOTYdFJo6CjiR36myyNm4lp",
      "include_colab_link": true
    },
    "kernelspec": {
      "name": "python3",
      "display_name": "Python 3"
    },
    "language_info": {
      "name": "python"
    }
  },
  "cells": [
    {
      "cell_type": "markdown",
      "metadata": {
        "id": "view-in-github",
        "colab_type": "text"
      },
      "source": [
        "<a href=\"https://colab.research.google.com/github/kikin8907/03MIAR---Algoritmos-de-Optimizacion/blob/main/Jorge_Romero_AG1.ipynb\" target=\"_parent\"><img src=\"https://colab.research.google.com/assets/colab-badge.svg\" alt=\"Open In Colab\"/></a>"
      ]
    },
    {
      "cell_type": "markdown",
      "source": [
        "Nombre: Jorge Enrique Romero Perez\n",
        "\n",
        "Enlace: https://colab.research.google.com/drive/19n7rFtvYygeP2m9iwEL5Kon2Oi1vWaPE?usp=sharing\n",
        "\n",
        "GitHub: https://github.com/kikin8907/03MIAR---Algoritmos-de-Optimizacion\n"
      ],
      "metadata": {
        "id": "PYY5Y94bQsru"
      }
    },
    {
      "cell_type": "code",
      "source": [
        "#Torres de Hanoi - Divide y venceras\n",
        "################################################################################\n",
        "\n",
        "\n",
        "################################################################\n",
        "def Torres_Hanoi(N, desde, hasta):\n",
        "  #N - Nº de fichas\n",
        "  #desde - torre inicial\n",
        "  #hasta - torre fina\n",
        "  if N==1 :\n",
        "    print(\"Lleva la ficha desde \" + str(desde) + \" hasta \" + str(hasta))\n",
        "\n",
        "  else:\n",
        "    Torres_Hanoi(N-1, desde, 6-desde-hasta)\n",
        "    print(\"Lleva la ficha desde \" + str(desde) + \" hasta \" + str(hasta))\n",
        "    Torres_Hanoi(N-1, 6-desde-hasta,  hasta)\n",
        "\n",
        "Torres_Hanoi(3, 1, 3)\n",
        "################################################################"
      ],
      "metadata": {
        "colab": {
          "base_uri": "https://localhost:8080/"
        },
        "id": "dVmPeWMHS94B",
        "outputId": "38b468f0-b243-4a80-9ce5-e2addc4daedc"
      },
      "execution_count": null,
      "outputs": [
        {
          "output_type": "stream",
          "name": "stdout",
          "text": [
            "Lleva la ficha desde 1 hasta 3\n",
            "Lleva la ficha desde 1 hasta 2\n",
            "Lleva la ficha desde 3 hasta 2\n",
            "Lleva la ficha desde 1 hasta 3\n",
            "Lleva la ficha desde 2 hasta 1\n",
            "Lleva la ficha desde 2 hasta 3\n",
            "Lleva la ficha desde 1 hasta 3\n"
          ]
        }
      ]
    },
    {
      "cell_type": "code",
      "source": [
        "#Cambio de monedas - Técnica voraz\n",
        "################################################################################\n",
        "SISTEMA = [12, 5 ,2, 1  ]\n",
        "################################################################\n",
        "def cambio_monedas(CANTIDAD,SISTEMA):\n",
        "#....\n",
        "  SOLUCION = [0]*len(SISTEMA)\n",
        "  ValorAcumulado = 0\n",
        "\n",
        "  for i,valor in enumerate(SISTEMA):\n",
        "    print(i,valor)\n",
        "    monedas = (CANTIDAD-ValorAcumulado)//valor\n",
        "    SOLUCION[i] = monedas\n",
        "    ValorAcumulado = ValorAcumulado + monedas*valor\n",
        "    print(monedas,ValorAcumulado,SOLUCION)\n",
        "    if CANTIDAD == ValorAcumulado:\n",
        "      return SOLUCION\n",
        "\n",
        "  print(\"No es posible encontrar solucion\") \n",
        "cambio_monedas(15,SISTEMA)\n",
        "\n",
        "    \n",
        "################################################################"
      ],
      "metadata": {
        "colab": {
          "base_uri": "https://localhost:8080/"
        },
        "id": "S1UaNDelX1GV",
        "outputId": "02c4fd59-d87b-4567-99b0-f4fd7fdd831d"
      },
      "execution_count": null,
      "outputs": [
        {
          "output_type": "stream",
          "name": "stdout",
          "text": [
            "0 12\n",
            "1 12 [1, 0, 0, 0]\n",
            "1 5\n",
            "0 12 [1, 0, 0, 0]\n",
            "2 2\n",
            "1 14 [1, 0, 1, 0]\n",
            "3 1\n",
            "1 15 [1, 0, 1, 1]\n"
          ]
        },
        {
          "output_type": "execute_result",
          "data": {
            "text/plain": [
              "[1, 0, 1, 1]"
            ]
          },
          "metadata": {},
          "execution_count": 9
        }
      ]
    },
    {
      "cell_type": "code",
      "source": [
        "#N Reinas - Vuelta Atrás()\n",
        "################################################################################\n",
        "\n",
        "#Verifica que en la solución parcial no hay amenzas entre reinas\n",
        "################################################################\n",
        "def es_prometedora(SOLUCION,etapa):\n",
        "################################################################\n",
        "  #print(SOLUCION)\n",
        "  #Si la solución tiene dos valores iguales no es valida => Dos reinas en la misma fila\n",
        "  for i in range(etapa+1):\n",
        "    #print(\"El valor \" + str(SOLUCION[i]) + \" está \" +  str(SOLUCION.count(SOLUCION[i])) + \" veces\")\n",
        "    if SOLUCION.count(SOLUCION[i]) > 1:       \n",
        "      return False\n",
        "  \n",
        "    #Verifica las diagonales\n",
        "    for j in range(i+1, etapa +1 ):\n",
        "      #print(\"Comprobando diagonal de \" + str(i) + \" y \" + str(j))\n",
        "      if abs(i-j) == abs(SOLUCION[i]-SOLUCION[j]) : return False\n",
        "  return True\n",
        "\n",
        "#Traduce la solución al tablero\n",
        "################################################################\n",
        "def escribe_solucion(S):\n",
        "################################################################\n",
        "  n = len(S)\n",
        "  for x in range(n):\n",
        "    print(\"\")\n",
        "    for i in range(n):\n",
        "      if S[i] == x+1:\n",
        "        print(\" X \" , end=\"\")\n",
        "      else:\n",
        "        print(\" - \", end=\"\")\n",
        "\n",
        "\n",
        "\n",
        "#Proceso principal de N-Reinas\n",
        "################################################################\n",
        "def reinas(N, solucion=[],etapa=0): \n",
        "################################################################\n",
        "### ....\n",
        "  if len(solucion) == 0:         # [0,0,0...]\n",
        "    solucion = [0 for i in range(N) ]\n",
        "  \n",
        "  for i in range(1, N+1):\n",
        "    solucion[etapa] = i\n",
        "    if es_prometedora(solucion, etapa):\n",
        "      if etapa == N-1:\n",
        "        print(solucion)\n",
        "      else:  \n",
        "        reinas(N, solucion, etapa+1)\n",
        "    else:\n",
        "      None\n",
        "  \n",
        "  solucion[etapa] = 0\n",
        "\n",
        "reinas(4,solucion=[],etapa=0)"
      ],
      "metadata": {
        "colab": {
          "base_uri": "https://localhost:8080/"
        },
        "id": "rLpW3xpSj5XP",
        "outputId": "ecab8319-8afb-4482-c438-bb674766a069"
      },
      "execution_count": null,
      "outputs": [
        {
          "output_type": "stream",
          "name": "stdout",
          "text": [
            "[2, 4, 1, 3]\n",
            "[3, 1, 4, 2]\n"
          ]
        }
      ]
    },
    {
      "cell_type": "code",
      "source": [
        "escribe_solucion([3, 1, 4, 2])"
      ],
      "metadata": {
        "colab": {
          "base_uri": "https://localhost:8080/"
        },
        "id": "TZ-Vz4Q6ospJ",
        "outputId": "c4a353c7-9584-47b5-86b5-96fff977e92f"
      },
      "execution_count": null,
      "outputs": [
        {
          "output_type": "stream",
          "name": "stdout",
          "text": [
            "\n",
            " -  X  -  - \n",
            " -  -  -  X \n",
            " X  -  -  - \n",
            " -  -  X  - "
          ]
        }
      ]
    },
    {
      "cell_type": "markdown",
      "source": [
        "# Problema: Encontrar los dos puntos más cercanos\n",
        "• Dado un conjunto de puntos se trata de encontrar los dos puntos más cercanos"
      ],
      "metadata": {
        "id": "PmBYwfYJCqkw"
      }
    },
    {
      "cell_type": "code",
      "source": [
        "#### Funcion de calculo de distancia Euclidea entre 2 puntos\n",
        "\n",
        "def Distancia_euclidea(a, b):\n",
        "  if isinstance(a, int) and isinstance(b, int):\n",
        "    return abs(a - b)\n",
        "\n",
        "  return sum((pa - pb) * 2  for pa, pb in zip(a, b)) * (1/2)"
      ],
      "metadata": {
        "id": "M_OTCQSl6pTr"
      },
      "execution_count": 27,
      "outputs": []
    },
    {
      "cell_type": "code",
      "source": [
        "###### Puntos de prueba\n",
        "a = [100, 15, 20, 30]\n",
        "b = [-200, 4, -10, -30, -50, 1, 100, 50]\n",
        "c = [(20, 40, 5), (2, 2, 2), (13, 8, 9), (100, 10, 1000)]\n",
        "d = [(500, 2), (100, 100), (0, 0), (5, 5)]\n",
        "\n",
        "#### Funcion de que encuentra los puntos mas cercano\n",
        "\n",
        "#### Calcular la complejidad. ¿Se puede mejorar? R:/ la complejidad aumenta segun la dimension del punto, si es 1D la complejidad es de O(n^2), 2D la complejidad aumenta a O(n^3) y 3D la complejidad es de O(n^4)\n",
        "\n",
        "\n",
        "#################### Divide y venceras ########################\n",
        "def punto_cercano(puntos):\n",
        "  dist_min = Distancia_euclidea(puntos[0], puntos[1])\n",
        "  for index_1, punto_1 in enumerate(puntos):\n",
        "    for index_2 in range(index_1 + 1, len(puntos)):\n",
        "      norma = Distancia_euclidea(punto_1, puntos[index_2])\n",
        "      if norma < dist_min:\n",
        "        dist_min = norma\n",
        "        dist_min_punto = (punto_1, puntos[index_2])\n",
        "  return f\"Punto mas cercano {dist_min_punto}\"\n",
        "\n",
        "print(punto_cercano(a))\n",
        "print(punto_cercano(b))\n",
        "print(punto_cercano(c))\n",
        "print(punto_cercano(d))"
      ],
      "metadata": {
        "colab": {
          "base_uri": "https://localhost:8080/"
        },
        "id": "nAQ1MwkA18Hl",
        "outputId": "2ef83c53-4d05-4715-838f-54eb0adf00c3"
      },
      "execution_count": 31,
      "outputs": [
        {
          "output_type": "stream",
          "name": "stdout",
          "text": [
            "Punto mas cercano (15, 20)\n",
            "Punto mas cercano (4, 1)\n",
            "Punto mas cercano ((2, 2, 2), (100, 10, 1000))\n",
            "Punto mas cercano ((0, 0), (5, 5))\n"
          ]
        }
      ]
    }
  ]
}